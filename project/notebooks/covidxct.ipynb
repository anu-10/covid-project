{
 "cells": [
  {
   "cell_type": "code",
   "execution_count": 1,
   "id": "e67fda0b",
   "metadata": {
    "execution": {
     "iopub.execute_input": "2023-03-22T16:17:39.207090Z",
     "iopub.status.busy": "2023-03-22T16:17:39.205963Z",
     "iopub.status.idle": "2023-03-22T16:17:45.282426Z",
     "shell.execute_reply": "2023-03-22T16:17:45.281451Z"
    },
    "papermill": {
     "duration": 6.086448,
     "end_time": "2023-03-22T16:17:45.285033",
     "exception": false,
     "start_time": "2023-03-22T16:17:39.198585",
     "status": "completed"
    },
    "tags": []
   },
   "outputs": [],
   "source": [
    "\n",
    "from tensorflow.keras.layers import Input, Lambda,Activation, Dense, Flatten,Dropout,Conv2D,MaxPooling2D,BatchNormalization, Rescaling, AveragePooling2D, GlobalAveragePooling2D\n",
    "from tensorflow.keras.models import Model\n",
    "from keras.callbacks import ModelCheckpoint, ReduceLROnPlateau\n",
    "from tensorflow.keras.preprocessing import image, image_dataset_from_directory\n",
    "from sklearn.metrics import accuracy_score,classification_report,confusion_matrix\n",
    "from tensorflow.keras.preprocessing.image import ImageDataGenerator\n",
    "from sklearn.model_selection import train_test_split\n",
    "from tensorflow.keras.models import Sequential\n",
    "from tensorflow.keras.applications import DenseNet121, ResNet50\n",
    "from keras.utils import np_utils\n",
    "from keras.models import load_model\n",
    "from tensorflow.keras.optimizers import Adam\n",
    "import tensorflow as tf\n",
    "import numpy as np\n",
    "import pandas as pd\n",
    "import os\n",
    "import cv2\n",
    "import gc\n",
    "import matplotlib.pyplot as plt\n",
    "import time\n",
    "from numpy import asarray\n",
    "from sklearn.metrics import accuracy_score"
   ]
  },
  {
   "cell_type": "code",
   "execution_count": 2,
   "id": "3628245f",
   "metadata": {
    "execution": {
     "iopub.execute_input": "2023-03-22T16:17:45.296892Z",
     "iopub.status.busy": "2023-03-22T16:17:45.295727Z",
     "iopub.status.idle": "2023-03-22T16:17:45.301149Z",
     "shell.execute_reply": "2023-03-22T16:17:45.300260Z"
    },
    "papermill": {
     "duration": 0.013259,
     "end_time": "2023-03-22T16:17:45.303170",
     "exception": false,
     "start_time": "2023-03-22T16:17:45.289911",
     "status": "completed"
    },
    "tags": []
   },
   "outputs": [],
   "source": [
    "def len_file(t):\n",
    "    with open(t, 'r') as f:\n",
    "        return len(f.readlines())"
   ]
  },
  {
   "cell_type": "markdown",
   "id": "2aee6877",
   "metadata": {
    "papermill": {
     "duration": 0.004039,
     "end_time": "2023-03-22T16:17:45.311526",
     "exception": false,
     "start_time": "2023-03-22T16:17:45.307487",
     "status": "completed"
    },
    "tags": []
   },
   "source": [
    "Each line in the label files has the following format:\n",
    "\n",
    "filename class xmin ymin xmax ymax"
   ]
  },
  {
   "cell_type": "code",
   "execution_count": 3,
   "id": "7a018b1d",
   "metadata": {
    "execution": {
     "iopub.execute_input": "2023-03-22T16:17:45.321663Z",
     "iopub.status.busy": "2023-03-22T16:17:45.320893Z",
     "iopub.status.idle": "2023-03-22T16:17:45.327297Z",
     "shell.execute_reply": "2023-03-22T16:17:45.326450Z"
    },
    "papermill": {
     "duration": 0.01345,
     "end_time": "2023-03-22T16:17:45.329209",
     "exception": false,
     "start_time": "2023-03-22T16:17:45.315759",
     "status": "completed"
    },
    "tags": []
   },
   "outputs": [],
   "source": [
    "def load_labels(label_file):\n",
    "    \"\"\"Loads image filenames, classes\"\"\"\n",
    "    fnames, classes= [], []\n",
    "    with open(label_file, 'r') as f:\n",
    "        for line in f.readlines():\n",
    "            fname, cls, _, _, _, _ = line.strip('\\n').split()\n",
    "            fnames.append(fname)\n",
    "            classes.append(int(cls))\n",
    "        df = pd.DataFrame({'src': fnames, 'class':classes})\n",
    "    return df"
   ]
  },
  {
   "cell_type": "code",
   "execution_count": 4,
   "id": "3ffae739",
   "metadata": {
    "execution": {
     "iopub.execute_input": "2023-03-22T16:17:45.339619Z",
     "iopub.status.busy": "2023-03-22T16:17:45.338615Z",
     "iopub.status.idle": "2023-03-22T16:17:45.343994Z",
     "shell.execute_reply": "2023-03-22T16:17:45.343179Z"
    },
    "papermill": {
     "duration": 0.012395,
     "end_time": "2023-03-22T16:17:45.345912",
     "exception": false,
     "start_time": "2023-03-22T16:17:45.333517",
     "status": "completed"
    },
    "tags": []
   },
   "outputs": [],
   "source": [
    "train_datagen=ImageDataGenerator(rescale=1./255.)\n",
    "validation_datagen = ImageDataGenerator(rescale=1./255.)\n",
    "batchsize = 8\n",
    "nb_epoch = 3\n",
    "targetsize = (256,256)"
   ]
  },
  {
   "cell_type": "code",
   "execution_count": 5,
   "id": "075dac58",
   "metadata": {
    "execution": {
     "iopub.execute_input": "2023-03-22T16:17:45.356600Z",
     "iopub.status.busy": "2023-03-22T16:17:45.355258Z",
     "iopub.status.idle": "2023-03-22T16:31:16.645855Z",
     "shell.execute_reply": "2023-03-22T16:31:16.644848Z"
    },
    "papermill": {
     "duration": 811.298157,
     "end_time": "2023-03-22T16:31:16.648352",
     "exception": false,
     "start_time": "2023-03-22T16:17:45.350195",
     "status": "completed"
    },
    "tags": []
   },
   "outputs": [
    {
     "name": "stdout",
     "output_type": "stream",
     "text": [
      "                    src  class\n",
      "0  NCP_96_1328_0032.png      2\n",
      "1  NCP_96_1328_0035.png      2\n",
      "2  NCP_96_1328_0036.png      2\n",
      "3  NCP_96_1328_0037.png      2\n",
      "4  NCP_96_1328_0038.png      2\n",
      "Found 357518 validated image filenames.\n"
     ]
    }
   ],
   "source": [
    "train_df = load_labels('/kaggle/input/covidxct/train_COVIDx_CT-3A.txt')\n",
    "print(train_df.head())\n",
    "train_generator=train_datagen.flow_from_dataframe(\n",
    "dataframe=train_df,\n",
    "directory='/kaggle/input/covidxct/3A_images',\n",
    "x_col=\"src\",\n",
    "y_col=\"class\",\n",
    "color_mode = 'rgb',\n",
    "batch_size=batchsize,\n",
    "seed=42,\n",
    "shuffle=True,\n",
    "class_mode=\"raw\",\n",
    "target_size=targetsize)"
   ]
  },
  {
   "cell_type": "code",
   "execution_count": 6,
   "id": "4d9d6d72",
   "metadata": {
    "execution": {
     "iopub.execute_input": "2023-03-22T16:31:16.658950Z",
     "iopub.status.busy": "2023-03-22T16:31:16.658643Z",
     "iopub.status.idle": "2023-03-22T16:32:33.374605Z",
     "shell.execute_reply": "2023-03-22T16:32:33.373640Z"
    },
    "papermill": {
     "duration": 76.727987,
     "end_time": "2023-03-22T16:32:33.381112",
     "exception": false,
     "start_time": "2023-03-22T16:31:16.653125",
     "status": "completed"
    },
    "tags": []
   },
   "outputs": [
    {
     "name": "stdout",
     "output_type": "stream",
     "text": [
      "Found 33725 validated image filenames.\n"
     ]
    }
   ],
   "source": [
    "val_df = load_labels('/kaggle/input/covidxct/val_COVIDx_CT-3A.txt')\n",
    "validation_generator=validation_datagen.flow_from_dataframe(\n",
    "dataframe=val_df,\n",
    "directory='/kaggle/input/covidxct/3A_images',\n",
    "x_col=\"src\",\n",
    "y_col=\"class\",\n",
    "color_mode = 'rgb',\n",
    "batch_size=batchsize,\n",
    "seed=42,\n",
    "shuffle=True,\n",
    "class_mode=\"raw\",\n",
    "target_size=targetsize)"
   ]
  },
  {
   "cell_type": "code",
   "execution_count": 7,
   "id": "794a2fdf",
   "metadata": {
    "execution": {
     "iopub.execute_input": "2023-03-22T16:32:33.391935Z",
     "iopub.status.busy": "2023-03-22T16:32:33.391628Z",
     "iopub.status.idle": "2023-03-22T16:32:33.399328Z",
     "shell.execute_reply": "2023-03-22T16:32:33.398304Z"
    },
    "papermill": {
     "duration": 0.01542,
     "end_time": "2023-03-22T16:32:33.401504",
     "exception": false,
     "start_time": "2023-03-22T16:32:33.386084",
     "status": "completed"
    },
    "tags": []
   },
   "outputs": [],
   "source": [
    "def build_model():\n",
    "    #model = ResNet50(weights='imagenet', include_top=False)\n",
    "    model = DenseNet121(weights='imagenet', include_top=False)\n",
    "    input = Input(shape=(256,256,3))\n",
    "    x = Conv2D(3, (3, 3), padding='same')(input)\n",
    "    \n",
    "    x = model(x)\n",
    "    \n",
    "    x = GlobalAveragePooling2D()(x)\n",
    "    x = BatchNormalization()(x)\n",
    "    x = Dropout(0.4)(x)\n",
    "    x = Dense(256, activation='relu')(x)\n",
    "    x = BatchNormalization()(x)\n",
    "    x = Dropout(0.4)(x)\n",
    "\n",
    "    # multi output\n",
    "    output = Dense(3,activation = 'softmax', name='root')(x)\n",
    " \n",
    "\n",
    "    # model\n",
    "    model = Model(input,output)\n",
    "    \n",
    "    optimizer = Adam(learning_rate=0.005, beta_1=0.9, beta_2=0.999, epsilon=0.1)\n",
    "    model.compile(loss='sparse_categorical_crossentropy', optimizer=optimizer, metrics=['accuracy'])\n",
    "    model.summary()\n",
    "    \n",
    "    return model"
   ]
  },
  {
   "cell_type": "code",
   "execution_count": 8,
   "id": "9d3a11d2",
   "metadata": {
    "execution": {
     "iopub.execute_input": "2023-03-22T16:32:33.411608Z",
     "iopub.status.busy": "2023-03-22T16:32:33.411301Z",
     "iopub.status.idle": "2023-03-22T16:32:42.067451Z",
     "shell.execute_reply": "2023-03-22T16:32:42.066350Z"
    },
    "papermill": {
     "duration": 8.66362,
     "end_time": "2023-03-22T16:32:42.069532",
     "exception": false,
     "start_time": "2023-03-22T16:32:33.405912",
     "status": "completed"
    },
    "tags": []
   },
   "outputs": [
    {
     "name": "stdout",
     "output_type": "stream",
     "text": [
      "Model: \"model\"\n",
      "_________________________________________________________________\n",
      "Layer (type)                 Output Shape              Param #   \n",
      "=================================================================\n",
      "input_2 (InputLayer)         [(None, 256, 256, 3)]     0         \n",
      "_________________________________________________________________\n",
      "conv2d (Conv2D)              (None, 256, 256, 3)       84        \n",
      "_________________________________________________________________\n",
      "densenet121 (Functional)     (None, None, None, 1024)  7037504   \n",
      "_________________________________________________________________\n",
      "global_average_pooling2d (Gl (None, 1024)              0         \n",
      "_________________________________________________________________\n",
      "batch_normalization (BatchNo (None, 1024)              4096      \n",
      "_________________________________________________________________\n",
      "dropout (Dropout)            (None, 1024)              0         \n",
      "_________________________________________________________________\n",
      "dense (Dense)                (None, 256)               262400    \n",
      "_________________________________________________________________\n",
      "batch_normalization_1 (Batch (None, 256)               1024      \n",
      "_________________________________________________________________\n",
      "dropout_1 (Dropout)          (None, 256)               0         \n",
      "_________________________________________________________________\n",
      "root (Dense)                 (None, 3)                 771       \n",
      "=================================================================\n",
      "Total params: 7,305,879\n",
      "Trainable params: 7,219,671\n",
      "Non-trainable params: 86,208\n",
      "_________________________________________________________________\n"
     ]
    }
   ],
   "source": [
    "#model = build_model()\n",
    "model = load_model('/kaggle/input/k/anu10m/covidxct/densenetmodel.hdf5')\n",
    "#model = load_model('/kaggle/working/resnetmodel-03.hdf5')\n",
    "model.summary()\n",
    "annealer = ReduceLROnPlateau(monitor='val_accuracy', factor=0.70, patience=5, verbose=1, min_learning_rate=1e-4)"
   ]
  },
  {
   "cell_type": "code",
   "execution_count": 9,
   "id": "3d292dec",
   "metadata": {
    "execution": {
     "iopub.execute_input": "2023-03-22T16:32:42.080830Z",
     "iopub.status.busy": "2023-03-22T16:32:42.080001Z",
     "iopub.status.idle": "2023-03-22T16:32:42.085479Z",
     "shell.execute_reply": "2023-03-22T16:32:42.084543Z"
    },
    "papermill": {
     "duration": 0.013044,
     "end_time": "2023-03-22T16:32:42.087412",
     "exception": false,
     "start_time": "2023-03-22T16:32:42.074368",
     "status": "completed"
    },
    "tags": []
   },
   "outputs": [],
   "source": [
    "#-{epoch:02d}\n",
    "checkpoint = tf.keras.callbacks.ModelCheckpoint('densenetmodel.hdf5',\n",
    "                                                monitor='val_loss',\n",
    "                                                verbose=1,\n",
    "                                                save_best_only=True,\n",
    "                                                mode='min',\n",
    "                                                period=1)"
   ]
  },
  {
   "cell_type": "code",
   "execution_count": 10,
   "id": "e8c6c510",
   "metadata": {
    "execution": {
     "iopub.execute_input": "2023-03-22T16:32:42.098618Z",
     "iopub.status.busy": "2023-03-22T16:32:42.098261Z",
     "iopub.status.idle": "2023-03-22T16:32:42.177285Z",
     "shell.execute_reply": "2023-03-22T16:32:42.176300Z"
    },
    "papermill": {
     "duration": 0.087651,
     "end_time": "2023-03-22T16:32:42.179695",
     "exception": false,
     "start_time": "2023-03-22T16:32:42.092044",
     "status": "completed"
    },
    "tags": []
   },
   "outputs": [],
   "source": [
    "train_file = '/kaggle/input/covidxct/train_COVIDx_CT-3A.txt'\n",
    "val_file = '/kaggle/input/covidxct/val_COVIDx_CT-3A.txt'\n",
    "train_len=len_file(train_file)\n",
    "val_len=len_file(val_file)\n",
    "step_size_train=np.ceil(train_len/batchsize)\n",
    "step_size_validate=np.ceil(val_len/batchsize)"
   ]
  },
  {
   "cell_type": "code",
   "execution_count": 11,
   "id": "8b6b529d",
   "metadata": {
    "execution": {
     "iopub.execute_input": "2023-03-22T16:32:42.190461Z",
     "iopub.status.busy": "2023-03-22T16:32:42.190132Z",
     "iopub.status.idle": "2023-03-22T20:46:37.229451Z",
     "shell.execute_reply": "2023-03-22T20:46:37.228471Z"
    },
    "papermill": {
     "duration": 15235.049301,
     "end_time": "2023-03-22T20:46:37.233861",
     "exception": false,
     "start_time": "2023-03-22T16:32:42.184560",
     "status": "completed"
    },
    "tags": []
   },
   "outputs": [
    {
     "name": "stdout",
     "output_type": "stream",
     "text": [
      "Epoch 1/3\n",
      "44690/44690 [==============================] - 5109s 114ms/step - loss: 0.0094 - accuracy: 0.9971 - val_loss: 0.4639 - val_accuracy: 0.8929\n",
      "\n",
      "Epoch 00001: val_loss improved from inf to 0.46385, saving model to densenetmodel.hdf5\n",
      "Epoch 2/3\n",
      "44690/44690 [==============================] - 5084s 114ms/step - loss: 0.0076 - accuracy: 0.9977 - val_loss: 0.2850 - val_accuracy: 0.9360\n",
      "\n",
      "Epoch 00002: val_loss improved from 0.46385 to 0.28495, saving model to densenetmodel.hdf5\n",
      "Epoch 3/3\n",
      "44690/44690 [==============================] - 4974s 111ms/step - loss: 0.0051 - accuracy: 0.9984 - val_loss: 0.3233 - val_accuracy: 0.9346\n",
      "\n",
      "Epoch 00003: val_loss did not improve from 0.28495\n"
     ]
    },
    {
     "data": {
      "text/plain": [
       "<keras.callbacks.History at 0x7fa6ce1756d0>"
      ]
     },
     "execution_count": 11,
     "metadata": {},
     "output_type": "execute_result"
    }
   ],
   "source": [
    "model.fit(train_generator,\n",
    "epochs=nb_epoch,steps_per_epoch=step_size_train,\n",
    "verbose=1,\n",
    "validation_data=validation_generator,\n",
    "validation_steps=step_size_validate,\n",
    "callbacks=[annealer, checkpoint]\n",
    ")"
   ]
  },
  {
   "cell_type": "code",
   "execution_count": 12,
   "id": "87a84748",
   "metadata": {
    "execution": {
     "iopub.execute_input": "2023-03-22T20:46:52.913209Z",
     "iopub.status.busy": "2023-03-22T20:46:52.912845Z",
     "iopub.status.idle": "2023-03-22T20:46:52.917755Z",
     "shell.execute_reply": "2023-03-22T20:46:52.916843Z"
    },
    "papermill": {
     "duration": 7.402922,
     "end_time": "2023-03-22T20:46:52.919675",
     "exception": false,
     "start_time": "2023-03-22T20:46:45.516753",
     "status": "completed"
    },
    "tags": []
   },
   "outputs": [],
   "source": [
    "test_datagen = ImageDataGenerator(rescale=1./255.)"
   ]
  },
  {
   "cell_type": "code",
   "execution_count": 13,
   "id": "3e49cff1",
   "metadata": {
    "execution": {
     "iopub.execute_input": "2023-03-22T20:47:08.099820Z",
     "iopub.status.busy": "2023-03-22T20:47:08.099453Z",
     "iopub.status.idle": "2023-03-22T20:48:23.644923Z",
     "shell.execute_reply": "2023-03-22T20:48:23.643924Z"
    },
    "papermill": {
     "duration": 83.264219,
     "end_time": "2023-03-22T20:48:23.647071",
     "exception": false,
     "start_time": "2023-03-22T20:47:00.382852",
     "status": "completed"
    },
    "tags": []
   },
   "outputs": [
    {
     "name": "stdout",
     "output_type": "stream",
     "text": [
      "Found 33781 validated image filenames.\n"
     ]
    }
   ],
   "source": [
    "test_df = load_labels('/kaggle/input/covidxct/test_COVIDx_CT-3A.txt')\n",
    "test_generator=test_datagen.flow_from_dataframe(\n",
    "dataframe=test_df,\n",
    "directory='/kaggle/input/covidxct/3A_images',\n",
    "x_col=\"src\",\n",
    "y_col=None,\n",
    "color_mode = 'rgb',\n",
    "batch_size=batchsize,\n",
    "seed=42,\n",
    "shuffle=False,\n",
    "class_mode=None,\n",
    "target_size=targetsize)"
   ]
  },
  {
   "cell_type": "code",
   "execution_count": 14,
   "id": "c9250e2d",
   "metadata": {
    "execution": {
     "iopub.execute_input": "2023-03-22T20:48:38.739574Z",
     "iopub.status.busy": "2023-03-22T20:48:38.739165Z",
     "iopub.status.idle": "2023-03-22T20:48:38.753639Z",
     "shell.execute_reply": "2023-03-22T20:48:38.752595Z"
    },
    "papermill": {
     "duration": 7.43886,
     "end_time": "2023-03-22T20:48:38.755810",
     "exception": false,
     "start_time": "2023-03-22T20:48:31.316950",
     "status": "completed"
    },
    "tags": []
   },
   "outputs": [],
   "source": [
    "#step_size_test=np.ceil(test_generator.n/test_generator.batch_size)\n",
    "test_len = len_file('/kaggle/input/covidxct/test_COVIDx_CT-3A.txt')\n",
    "step_size_test=np.ceil(test_len/batchsize)"
   ]
  },
  {
   "cell_type": "code",
   "execution_count": 15,
   "id": "d2eecb04",
   "metadata": {
    "execution": {
     "iopub.execute_input": "2023-03-22T20:48:54.577622Z",
     "iopub.status.busy": "2023-03-22T20:48:54.577252Z",
     "iopub.status.idle": "2023-03-22T20:48:54.581629Z",
     "shell.execute_reply": "2023-03-22T20:48:54.580665Z"
    },
    "papermill": {
     "duration": 7.770253,
     "end_time": "2023-03-22T20:48:54.583670",
     "exception": false,
     "start_time": "2023-03-22T20:48:46.813417",
     "status": "completed"
    },
    "tags": []
   },
   "outputs": [],
   "source": [
    "#model.evaluate_generator(test_generator, steps = step_size_test, verbose  = 1)"
   ]
  },
  {
   "cell_type": "code",
   "execution_count": 16,
   "id": "1d5086e2",
   "metadata": {
    "execution": {
     "iopub.execute_input": "2023-03-22T20:49:09.469652Z",
     "iopub.status.busy": "2023-03-22T20:49:09.469272Z",
     "iopub.status.idle": "2023-03-22T20:55:12.189780Z",
     "shell.execute_reply": "2023-03-22T20:55:12.188677Z"
    },
    "papermill": {
     "duration": 370.290248,
     "end_time": "2023-03-22T20:55:12.192187",
     "exception": false,
     "start_time": "2023-03-22T20:49:01.901939",
     "status": "completed"
    },
    "tags": []
   },
   "outputs": [
    {
     "name": "stdout",
     "output_type": "stream",
     "text": [
      "4223/4223 [==============================] - 363s 86ms/step\n"
     ]
    }
   ],
   "source": [
    "pred = model.predict(test_generator, steps = step_size_test, verbose = 1)"
   ]
  },
  {
   "cell_type": "code",
   "execution_count": 17,
   "id": "26ae54ee",
   "metadata": {
    "execution": {
     "iopub.execute_input": "2023-03-22T20:55:27.780247Z",
     "iopub.status.busy": "2023-03-22T20:55:27.779881Z",
     "iopub.status.idle": "2023-03-22T20:55:27.785217Z",
     "shell.execute_reply": "2023-03-22T20:55:27.784039Z"
    },
    "papermill": {
     "duration": 7.416937,
     "end_time": "2023-03-22T20:55:27.787271",
     "exception": false,
     "start_time": "2023-03-22T20:55:20.370334",
     "status": "completed"
    },
    "tags": []
   },
   "outputs": [],
   "source": [
    "predicted_class_indices=np.argmax(pred,axis=1)"
   ]
  },
  {
   "cell_type": "code",
   "execution_count": 18,
   "id": "8403fa8d",
   "metadata": {
    "execution": {
     "iopub.execute_input": "2023-03-22T20:55:43.975423Z",
     "iopub.status.busy": "2023-03-22T20:55:43.975051Z",
     "iopub.status.idle": "2023-03-22T20:55:43.996370Z",
     "shell.execute_reply": "2023-03-22T20:55:43.994359Z"
    },
    "papermill": {
     "duration": 7.849904,
     "end_time": "2023-03-22T20:55:43.998665",
     "exception": false,
     "start_time": "2023-03-22T20:55:36.148761",
     "status": "completed"
    },
    "tags": []
   },
   "outputs": [
    {
     "data": {
      "text/plain": [
       "0.9426304727509547"
      ]
     },
     "execution_count": 18,
     "metadata": {},
     "output_type": "execute_result"
    }
   ],
   "source": [
    "y = list(test_df['class']) \n",
    "accuracy_score(y, predicted_class_indices)"
   ]
  },
  {
   "cell_type": "code",
   "execution_count": 19,
   "id": "e2f2d733",
   "metadata": {
    "execution": {
     "iopub.execute_input": "2023-03-22T20:55:59.497102Z",
     "iopub.status.busy": "2023-03-22T20:55:59.496734Z",
     "iopub.status.idle": "2023-03-22T20:55:59.536323Z",
     "shell.execute_reply": "2023-03-22T20:55:59.535315Z"
    },
    "papermill": {
     "duration": 7.643753,
     "end_time": "2023-03-22T20:55:59.538647",
     "exception": false,
     "start_time": "2023-03-22T20:55:51.894894",
     "status": "completed"
    },
    "tags": []
   },
   "outputs": [
    {
     "name": "stdout",
     "output_type": "stream",
     "text": [
      "              precision    recall  f1-score   support\n",
      "\n",
      "           0       0.99      0.96      0.97     17922\n",
      "           1       0.98      0.88      0.93      7965\n",
      "           2       0.83      0.97      0.90      7894\n",
      "\n",
      "    accuracy                           0.94     33781\n",
      "   macro avg       0.93      0.94      0.93     33781\n",
      "weighted avg       0.95      0.94      0.94     33781\n",
      "\n"
     ]
    }
   ],
   "source": [
    "print(classification_report(y, predicted_class_indices))"
   ]
  },
  {
   "cell_type": "code",
   "execution_count": null,
   "id": "c63fdeed",
   "metadata": {
    "papermill": {
     "duration": 7.786141,
     "end_time": "2023-03-22T20:56:15.592832",
     "exception": false,
     "start_time": "2023-03-22T20:56:07.806691",
     "status": "completed"
    },
    "tags": []
   },
   "outputs": [],
   "source": []
  }
 ],
 "metadata": {
  "kernelspec": {
   "display_name": "Python 3",
   "language": "python",
   "name": "python3"
  },
  "language_info": {
   "codemirror_mode": {
    "name": "ipython",
    "version": 3
   },
   "file_extension": ".py",
   "mimetype": "text/x-python",
   "name": "python",
   "nbconvert_exporter": "python",
   "pygments_lexer": "ipython3",
   "version": "3.7.12"
  },
  "papermill": {
   "default_parameters": {},
   "duration": 16735.40203,
   "end_time": "2023-03-22T20:56:26.870120",
   "environment_variables": {},
   "exception": null,
   "input_path": "__notebook__.ipynb",
   "output_path": "__notebook__.ipynb",
   "parameters": {},
   "start_time": "2023-03-22T16:17:31.468090",
   "version": "2.3.4"
  }
 },
 "nbformat": 4,
 "nbformat_minor": 5
}
