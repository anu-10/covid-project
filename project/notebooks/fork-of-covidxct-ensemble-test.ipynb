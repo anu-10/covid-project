{
 "cells": [
  {
   "cell_type": "code",
   "execution_count": null,
   "id": "7e1d417c",
   "metadata": {
    "papermill": {
     "duration": 0.012272,
     "end_time": "2023-04-07T04:11:52.600913",
     "exception": false,
     "start_time": "2023-04-07T04:11:52.588641",
     "status": "completed"
    },
    "tags": []
   },
   "outputs": [],
   "source": []
  },
  {
   "cell_type": "code",
   "execution_count": 1,
   "id": "146f70c7",
   "metadata": {
    "execution": {
     "iopub.execute_input": "2023-04-07T04:11:52.622858Z",
     "iopub.status.busy": "2023-04-07T04:11:52.621918Z",
     "iopub.status.idle": "2023-04-07T04:11:59.249222Z",
     "shell.execute_reply": "2023-04-07T04:11:59.248107Z"
    },
    "papermill": {
     "duration": 6.642336,
     "end_time": "2023-04-07T04:11:59.252135",
     "exception": false,
     "start_time": "2023-04-07T04:11:52.609799",
     "status": "completed"
    },
    "tags": []
   },
   "outputs": [],
   "source": [
    "\n",
    "from tensorflow.keras.layers import Input, Lambda,Activation, Dense, Flatten,Dropout,Conv2D,MaxPooling2D,BatchNormalization, Rescaling, AveragePooling2D, GlobalAveragePooling2D\n",
    "from tensorflow.keras.models import Model\n",
    "from keras.callbacks import ModelCheckpoint, ReduceLROnPlateau\n",
    "from tensorflow.keras.preprocessing import image, image_dataset_from_directory\n",
    "from sklearn.metrics import accuracy_score,classification_report,confusion_matrix\n",
    "from tensorflow.keras.preprocessing.image import ImageDataGenerator\n",
    "from sklearn.model_selection import train_test_split\n",
    "from tensorflow.keras.models import Sequential\n",
    "from tensorflow.keras.applications import DenseNet121, ResNet50\n",
    "from keras.utils import np_utils\n",
    "from keras.models import load_model\n",
    "from tensorflow.keras.optimizers import Adam\n",
    "from sklearn.ensemble import VotingClassifier\n",
    "from sklearn.linear_model import LogisticRegression\n",
    "from sklearn import svm\n",
    "import tensorflow as tf\n",
    "import numpy as np\n",
    "import pandas as pd\n",
    "import os\n",
    "import cv2\n",
    "import gc\n",
    "import matplotlib.pyplot as plt\n",
    "import time\n",
    "from numpy import asarray\n",
    "from numpy import dstack\n",
    "from sklearn.metrics import accuracy_score, confusion_matrix"
   ]
  },
  {
   "cell_type": "code",
   "execution_count": 2,
   "id": "b7bde67a",
   "metadata": {
    "execution": {
     "iopub.execute_input": "2023-04-07T04:11:59.262508Z",
     "iopub.status.busy": "2023-04-07T04:11:59.261960Z",
     "iopub.status.idle": "2023-04-07T04:11:59.266647Z",
     "shell.execute_reply": "2023-04-07T04:11:59.265692Z"
    },
    "papermill": {
     "duration": 0.011971,
     "end_time": "2023-04-07T04:11:59.268664",
     "exception": false,
     "start_time": "2023-04-07T04:11:59.256693",
     "status": "completed"
    },
    "tags": []
   },
   "outputs": [],
   "source": [
    "def len_file(t):\n",
    "    with open(t, 'r') as f:\n",
    "        return len(f.readlines())"
   ]
  },
  {
   "cell_type": "markdown",
   "id": "dade061f",
   "metadata": {
    "papermill": {
     "duration": 0.003921,
     "end_time": "2023-04-07T04:11:59.276958",
     "exception": false,
     "start_time": "2023-04-07T04:11:59.273037",
     "status": "completed"
    },
    "tags": []
   },
   "source": [
    "Each line in the label files has the following format:\n",
    "\n",
    "filename class xmin ymin xmax ymax"
   ]
  },
  {
   "cell_type": "code",
   "execution_count": 3,
   "id": "67ecb27b",
   "metadata": {
    "execution": {
     "iopub.execute_input": "2023-04-07T04:11:59.286660Z",
     "iopub.status.busy": "2023-04-07T04:11:59.286363Z",
     "iopub.status.idle": "2023-04-07T04:11:59.293433Z",
     "shell.execute_reply": "2023-04-07T04:11:59.292579Z"
    },
    "papermill": {
     "duration": 0.014311,
     "end_time": "2023-04-07T04:11:59.295440",
     "exception": false,
     "start_time": "2023-04-07T04:11:59.281129",
     "status": "completed"
    },
    "tags": []
   },
   "outputs": [],
   "source": [
    "def load_labels(label_file):\n",
    "    \"\"\"Loads image filenames, classes\"\"\"\n",
    "    fnames, classes= [], []\n",
    "    with open(label_file, 'r') as f:\n",
    "        for line in f.readlines():\n",
    "            fname, cls, _, _, _, _ = line.strip('\\n').split()\n",
    "            fnames.append(fname)\n",
    "            classes.append(int(cls))\n",
    "        df = pd.DataFrame({'src': fnames, 'class':classes})\n",
    "    return df"
   ]
  },
  {
   "cell_type": "code",
   "execution_count": 4,
   "id": "92efc505",
   "metadata": {
    "execution": {
     "iopub.execute_input": "2023-04-07T04:11:59.306534Z",
     "iopub.status.busy": "2023-04-07T04:11:59.304844Z",
     "iopub.status.idle": "2023-04-07T04:11:59.310503Z",
     "shell.execute_reply": "2023-04-07T04:11:59.309622Z"
    },
    "papermill": {
     "duration": 0.013115,
     "end_time": "2023-04-07T04:11:59.312706",
     "exception": false,
     "start_time": "2023-04-07T04:11:59.299591",
     "status": "completed"
    },
    "tags": []
   },
   "outputs": [],
   "source": [
    "val_datagen = ImageDataGenerator(rescale=1./255.)\n",
    "batchsize = 8\n",
    "nb_epoch = 1\n",
    "targetsize = (256,256)"
   ]
  },
  {
   "cell_type": "code",
   "execution_count": 5,
   "id": "15f07427",
   "metadata": {
    "execution": {
     "iopub.execute_input": "2023-04-07T04:11:59.323369Z",
     "iopub.status.busy": "2023-04-07T04:11:59.321807Z",
     "iopub.status.idle": "2023-04-07T04:14:11.682519Z",
     "shell.execute_reply": "2023-04-07T04:14:11.681479Z"
    },
    "papermill": {
     "duration": 132.372491,
     "end_time": "2023-04-07T04:14:11.689437",
     "exception": false,
     "start_time": "2023-04-07T04:11:59.316946",
     "status": "completed"
    },
    "tags": []
   },
   "outputs": [
    {
     "name": "stdout",
     "output_type": "stream",
     "text": [
      "Found 33725 validated image filenames.\n"
     ]
    }
   ],
   "source": [
    "val_df = load_labels('/kaggle/input/covidxct/val_COVIDx_CT-3A.txt')\n",
    "val_generator=val_datagen.flow_from_dataframe(\n",
    "dataframe=val_df,\n",
    "directory='/kaggle/input/covidxct/3A_images',\n",
    "x_col=\"src\",\n",
    "y_col=\"class\",\n",
    "color_mode = 'rgb',\n",
    "batch_size=batchsize,\n",
    "seed=42,\n",
    "shuffle=False,\n",
    "class_mode=\"raw\",\n",
    "target_size=targetsize)"
   ]
  },
  {
   "cell_type": "code",
   "execution_count": 6,
   "id": "dead8bf0",
   "metadata": {
    "execution": {
     "iopub.execute_input": "2023-04-07T04:14:11.699983Z",
     "iopub.status.busy": "2023-04-07T04:14:11.699113Z",
     "iopub.status.idle": "2023-04-07T04:14:11.710851Z",
     "shell.execute_reply": "2023-04-07T04:14:11.710023Z"
    },
    "papermill": {
     "duration": 0.019054,
     "end_time": "2023-04-07T04:14:11.712932",
     "exception": false,
     "start_time": "2023-04-07T04:14:11.693878",
     "status": "completed"
    },
    "tags": []
   },
   "outputs": [],
   "source": [
    "val_file = '/kaggle/input/covidxct/val_COVIDx_CT-3A.txt'\n",
    "val_len=len_file(val_file)\n",
    "step_size_val=np.ceil(val_len/batchsize)"
   ]
  },
  {
   "cell_type": "code",
   "execution_count": 7,
   "id": "d46690c2",
   "metadata": {
    "execution": {
     "iopub.execute_input": "2023-04-07T04:14:11.722705Z",
     "iopub.status.busy": "2023-04-07T04:14:11.722436Z",
     "iopub.status.idle": "2023-04-07T04:14:34.259892Z",
     "shell.execute_reply": "2023-04-07T04:14:34.258849Z"
    },
    "papermill": {
     "duration": 22.545237,
     "end_time": "2023-04-07T04:14:34.262453",
     "exception": false,
     "start_time": "2023-04-07T04:14:11.717216",
     "status": "completed"
    },
    "tags": []
   },
   "outputs": [],
   "source": [
    "#model = build_model()\n",
    "model1 = load_model('/kaggle/input/ensemble-test/densenet-v54/densenetmodel.hdf5')\n",
    "model1._name = \"model1\"\n",
    "model2 = load_model('/kaggle/input/ensemble-test/resnet-v45/resnetmodel.hdf5')\n",
    "model2._name = \"model2\"\n",
    "model3 = load_model('/kaggle/input/ensemble-test/densenet-2/densenet-2.hdf5')\n",
    "model3._name = \"model3\""
   ]
  },
  {
   "cell_type": "code",
   "execution_count": 8,
   "id": "c163d2a1",
   "metadata": {
    "execution": {
     "iopub.execute_input": "2023-04-07T04:14:34.273426Z",
     "iopub.status.busy": "2023-04-07T04:14:34.272598Z",
     "iopub.status.idle": "2023-04-07T04:14:34.277464Z",
     "shell.execute_reply": "2023-04-07T04:14:34.276499Z"
    },
    "papermill": {
     "duration": 0.012352,
     "end_time": "2023-04-07T04:14:34.279546",
     "exception": false,
     "start_time": "2023-04-07T04:14:34.267194",
     "status": "completed"
    },
    "tags": []
   },
   "outputs": [],
   "source": [
    "models=[model1, model2, model3]"
   ]
  },
  {
   "cell_type": "code",
   "execution_count": 9,
   "id": "4e81a7c6",
   "metadata": {
    "execution": {
     "iopub.execute_input": "2023-04-07T04:14:34.290458Z",
     "iopub.status.busy": "2023-04-07T04:14:34.290182Z",
     "iopub.status.idle": "2023-04-07T04:14:34.296097Z",
     "shell.execute_reply": "2023-04-07T04:14:34.295141Z"
    },
    "papermill": {
     "duration": 0.014316,
     "end_time": "2023-04-07T04:14:34.298114",
     "exception": false,
     "start_time": "2023-04-07T04:14:34.283798",
     "status": "completed"
    },
    "tags": []
   },
   "outputs": [],
   "source": [
    "def stacked_dataset(members, inputX, step_size_test):\n",
    "    stackX = None\n",
    "    for model in members:\n",
    "     # make prediction\n",
    "        print(model._name)\n",
    "        yhat = model.predict(inputX, steps=step_size_test, verbose=0)\n",
    "    # stack predictions into [rows, members, probabilities]\n",
    "        if stackX is None:\n",
    "            stackX = yhat\n",
    "        else:\n",
    "            stackX = dstack((stackX, yhat))\n",
    "    # flatten predictions to [rows, members x probabilities]\n",
    "    stackX = stackX.reshape((stackX.shape[0], stackX.shape[1]*stackX.shape[2]))\n",
    "    return stackX"
   ]
  },
  {
   "cell_type": "code",
   "execution_count": 10,
   "id": "68a9d62c",
   "metadata": {
    "execution": {
     "iopub.execute_input": "2023-04-07T04:14:34.307795Z",
     "iopub.status.busy": "2023-04-07T04:14:34.307528Z",
     "iopub.status.idle": "2023-04-07T04:14:34.313366Z",
     "shell.execute_reply": "2023-04-07T04:14:34.312515Z"
    },
    "papermill": {
     "duration": 0.012953,
     "end_time": "2023-04-07T04:14:34.315320",
     "exception": false,
     "start_time": "2023-04-07T04:14:34.302367",
     "status": "completed"
    },
    "tags": []
   },
   "outputs": [],
   "source": [
    "def fit_stacked_model(members, inputX, step_size, inputy):\n",
    " # create dataset using ensemble\n",
    "    stackedX = stacked_dataset(members, inputX, step_size)\n",
    " # fit standalone model\n",
    "    model = svm.SVC(kernel='poly')\n",
    "    model.fit(stackedX, inputy)\n",
    "    return model"
   ]
  },
  {
   "cell_type": "code",
   "execution_count": 11,
   "id": "3e87aa82",
   "metadata": {
    "execution": {
     "iopub.execute_input": "2023-04-07T04:14:34.325069Z",
     "iopub.status.busy": "2023-04-07T04:14:34.324803Z",
     "iopub.status.idle": "2023-04-07T04:14:34.329353Z",
     "shell.execute_reply": "2023-04-07T04:14:34.328335Z"
    },
    "papermill": {
     "duration": 0.012116,
     "end_time": "2023-04-07T04:14:34.331656",
     "exception": false,
     "start_time": "2023-04-07T04:14:34.319540",
     "status": "completed"
    },
    "tags": []
   },
   "outputs": [],
   "source": [
    "def stacked_prediction(members, model, inputX, step_size):\n",
    "    # create dataset using ensemble\n",
    "    stackedX = stacked_dataset(members, inputX, step_size)\n",
    " # make a prediction\n",
    "    yhat = model.predict(stackedX)\n",
    "    return yhat"
   ]
  },
  {
   "cell_type": "code",
   "execution_count": 12,
   "id": "7bbcf537",
   "metadata": {
    "execution": {
     "iopub.execute_input": "2023-04-07T04:14:34.341181Z",
     "iopub.status.busy": "2023-04-07T04:14:34.340897Z",
     "iopub.status.idle": "2023-04-07T04:14:34.345599Z",
     "shell.execute_reply": "2023-04-07T04:14:34.344567Z"
    },
    "papermill": {
     "duration": 0.011928,
     "end_time": "2023-04-07T04:14:34.347805",
     "exception": false,
     "start_time": "2023-04-07T04:14:34.335877",
     "status": "completed"
    },
    "tags": []
   },
   "outputs": [],
   "source": [
    "test_datagen = ImageDataGenerator(rescale=1./255.)"
   ]
  },
  {
   "cell_type": "code",
   "execution_count": 13,
   "id": "71b4b0bc",
   "metadata": {
    "execution": {
     "iopub.execute_input": "2023-04-07T04:14:34.357388Z",
     "iopub.status.busy": "2023-04-07T04:14:34.357084Z",
     "iopub.status.idle": "2023-04-07T04:16:34.947433Z",
     "shell.execute_reply": "2023-04-07T04:16:34.946390Z"
    },
    "papermill": {
     "duration": 120.602269,
     "end_time": "2023-04-07T04:16:34.954285",
     "exception": false,
     "start_time": "2023-04-07T04:14:34.352016",
     "status": "completed"
    },
    "tags": []
   },
   "outputs": [
    {
     "name": "stdout",
     "output_type": "stream",
     "text": [
      "Found 33781 validated image filenames.\n"
     ]
    }
   ],
   "source": [
    "test_df = load_labels('/kaggle/input/covidxct/test_COVIDx_CT-3A.txt')\n",
    "test_generator=test_datagen.flow_from_dataframe(\n",
    "dataframe=test_df,\n",
    "directory='/kaggle/input/covidxct/3A_images',\n",
    "x_col=\"src\",\n",
    "y_col=None,\n",
    "color_mode = 'rgb',\n",
    "batch_size=batchsize,\n",
    "seed=42,\n",
    "shuffle=False,\n",
    "class_mode=None,\n",
    "target_size=targetsize)"
   ]
  },
  {
   "cell_type": "code",
   "execution_count": 14,
   "id": "43e036d5",
   "metadata": {
    "execution": {
     "iopub.execute_input": "2023-04-07T04:16:34.964619Z",
     "iopub.status.busy": "2023-04-07T04:16:34.964311Z",
     "iopub.status.idle": "2023-04-07T04:16:34.976842Z",
     "shell.execute_reply": "2023-04-07T04:16:34.975936Z"
    },
    "papermill": {
     "duration": 0.020248,
     "end_time": "2023-04-07T04:16:34.979130",
     "exception": false,
     "start_time": "2023-04-07T04:16:34.958882",
     "status": "completed"
    },
    "tags": []
   },
   "outputs": [],
   "source": [
    "#step_size_test=np.ceil(test_generator.n/test_generator.batch_size)\n",
    "test_len = len_file('/kaggle/input/covidxct/test_COVIDx_CT-3A.txt')\n",
    "step_size_test=np.ceil(test_len/batchsize)"
   ]
  },
  {
   "cell_type": "code",
   "execution_count": 15,
   "id": "3ee0d487",
   "metadata": {
    "execution": {
     "iopub.execute_input": "2023-04-07T04:16:34.989366Z",
     "iopub.status.busy": "2023-04-07T04:16:34.989034Z",
     "iopub.status.idle": "2023-04-07T04:29:13.772284Z",
     "shell.execute_reply": "2023-04-07T04:29:13.771088Z"
    },
    "papermill": {
     "duration": 758.7914,
     "end_time": "2023-04-07T04:29:13.775090",
     "exception": false,
     "start_time": "2023-04-07T04:16:34.983690",
     "status": "completed"
    },
    "tags": []
   },
   "outputs": [
    {
     "name": "stdout",
     "output_type": "stream",
     "text": [
      "model1\n",
      "model2\n",
      "model3\n"
     ]
    }
   ],
   "source": [
    "model_ensemble = fit_stacked_model(models, val_generator, step_size_val, val_df['class'])\n"
   ]
  },
  {
   "cell_type": "code",
   "execution_count": 16,
   "id": "47eb15af",
   "metadata": {
    "execution": {
     "iopub.execute_input": "2023-04-07T04:29:13.786290Z",
     "iopub.status.busy": "2023-04-07T04:29:13.785957Z",
     "iopub.status.idle": "2023-04-07T04:42:01.285782Z",
     "shell.execute_reply": "2023-04-07T04:42:01.284621Z"
    },
    "papermill": {
     "duration": 767.508501,
     "end_time": "2023-04-07T04:42:01.288741",
     "exception": false,
     "start_time": "2023-04-07T04:29:13.780240",
     "status": "completed"
    },
    "tags": []
   },
   "outputs": [
    {
     "name": "stdout",
     "output_type": "stream",
     "text": [
      "model1\n",
      "model2\n",
      "model3\n"
     ]
    }
   ],
   "source": [
    "pred = stacked_prediction(models, model_ensemble, test_generator, step_size_test)"
   ]
  },
  {
   "cell_type": "code",
   "execution_count": 17,
   "id": "ea50b13f",
   "metadata": {
    "execution": {
     "iopub.execute_input": "2023-04-07T04:42:01.300496Z",
     "iopub.status.busy": "2023-04-07T04:42:01.300158Z",
     "iopub.status.idle": "2023-04-07T04:42:01.318980Z",
     "shell.execute_reply": "2023-04-07T04:42:01.317946Z"
    },
    "papermill": {
     "duration": 0.027346,
     "end_time": "2023-04-07T04:42:01.321451",
     "exception": false,
     "start_time": "2023-04-07T04:42:01.294105",
     "status": "completed"
    },
    "tags": []
   },
   "outputs": [
    {
     "data": {
      "text/plain": [
       "0.9644770729108079"
      ]
     },
     "execution_count": 17,
     "metadata": {},
     "output_type": "execute_result"
    }
   ],
   "source": [
    "y = list(test_df['class']) \n",
    "accuracy_score(y, pred)"
   ]
  },
  {
   "cell_type": "code",
   "execution_count": 18,
   "id": "7bf39b09",
   "metadata": {
    "execution": {
     "iopub.execute_input": "2023-04-07T04:42:01.332076Z",
     "iopub.status.busy": "2023-04-07T04:42:01.331808Z",
     "iopub.status.idle": "2023-04-07T04:42:01.366514Z",
     "shell.execute_reply": "2023-04-07T04:42:01.365503Z"
    },
    "papermill": {
     "duration": 0.042208,
     "end_time": "2023-04-07T04:42:01.368420",
     "exception": false,
     "start_time": "2023-04-07T04:42:01.326212",
     "status": "completed"
    },
    "tags": []
   },
   "outputs": [
    {
     "name": "stdout",
     "output_type": "stream",
     "text": [
      "              precision    recall  f1-score   support\n",
      "\n",
      "           0       0.98      0.98      0.98     17922\n",
      "           1       0.98      0.93      0.96      7965\n",
      "           2       0.91      0.95      0.93      7894\n",
      "\n",
      "    accuracy                           0.96     33781\n",
      "   macro avg       0.96      0.96      0.96     33781\n",
      "weighted avg       0.97      0.96      0.96     33781\n",
      "\n"
     ]
    }
   ],
   "source": [
    "print(classification_report(y, pred))"
   ]
  },
  {
   "cell_type": "code",
   "execution_count": 19,
   "id": "b54f9626",
   "metadata": {
    "execution": {
     "iopub.execute_input": "2023-04-07T04:42:01.379304Z",
     "iopub.status.busy": "2023-04-07T04:42:01.378984Z",
     "iopub.status.idle": "2023-04-07T04:42:01.396568Z",
     "shell.execute_reply": "2023-04-07T04:42:01.395518Z"
    },
    "papermill": {
     "duration": 0.025394,
     "end_time": "2023-04-07T04:42:01.398648",
     "exception": false,
     "start_time": "2023-04-07T04:42:01.373254",
     "status": "completed"
    },
    "tags": []
   },
   "outputs": [
    {
     "data": {
      "text/plain": [
       "array([[17621,    28,   273],\n",
       "       [  104,  7425,   436],\n",
       "       [  233,   126,  7535]])"
      ]
     },
     "execution_count": 19,
     "metadata": {},
     "output_type": "execute_result"
    }
   ],
   "source": [
    "confusion_matrix(y, pred)"
   ]
  }
 ],
 "metadata": {
  "kernelspec": {
   "display_name": "Python 3",
   "language": "python",
   "name": "python3"
  },
  "language_info": {
   "codemirror_mode": {
    "name": "ipython",
    "version": 3
   },
   "file_extension": ".py",
   "mimetype": "text/x-python",
   "name": "python",
   "nbconvert_exporter": "python",
   "pygments_lexer": "ipython3",
   "version": "3.7.12"
  },
  "papermill": {
   "default_parameters": {},
   "duration": 1820.145697,
   "end_time": "2023-04-07T04:42:04.920924",
   "environment_variables": {},
   "exception": null,
   "input_path": "__notebook__.ipynb",
   "output_path": "__notebook__.ipynb",
   "parameters": {},
   "start_time": "2023-04-07T04:11:44.775227",
   "version": "2.3.4"
  }
 },
 "nbformat": 4,
 "nbformat_minor": 5
}
